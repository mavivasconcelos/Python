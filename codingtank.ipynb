{
  "nbformat": 4,
  "nbformat_minor": 0,
  "metadata": {
    "colab": {
      "provenance": [],
      "authorship_tag": "ABX9TyOvK5lWFtSOlbpRSKhcMlTf",
      "include_colab_link": true
    },
    "kernelspec": {
      "name": "python3",
      "display_name": "Python 3"
    },
    "language_info": {
      "name": "python"
    }
  },
  "cells": [
    {
      "cell_type": "markdown",
      "metadata": {
        "id": "view-in-github",
        "colab_type": "text"
      },
      "source": [
        "<a href=\"https://colab.research.google.com/github/mavivasconcelos/Python/blob/main/Untitled5.ipynb\" target=\"_parent\"><img src=\"https://colab.research.google.com/assets/colab-badge.svg\" alt=\"Open In Colab\"/></a>"
      ]
    },
    {
      "cell_type": "code",
      "execution_count": 21,
      "metadata": {
        "colab": {
          "base_uri": "https://localhost:8080/"
        },
        "id": "6EQBQmg5nO3-",
        "outputId": "91d16a48-f195-4471-ad4d-cad3f7f6bdda"
      },
      "outputs": [
        {
          "output_type": "stream",
          "name": "stdout",
          "text": [
            "Insira primeiro número: 4\n",
            "Insira segundo número: 5\n",
            "Escolha operação desejada: +, -, *, / -\n",
            "Você escolheu a operação - e o resultado é: \n",
            " -1.0\n"
          ]
        }
      ],
      "source": [
        "num1 = float(input(\"Insira primeiro número: \"))\n",
        "num2 = float(input(\"Insira segundo número: \"))\n",
        "\n",
        "op = input(\"Escolha operação desejada: +, -, *, / \")\n",
        "\n",
        "if op == \"+\":\n",
        "  resultado = num1 + num2\n",
        "elif op == \"-\":\n",
        "  resultado = num1 - num2\n",
        "elif op == \"*\":\n",
        "  resultado = num1 * num2\n",
        "elif op == \"/\":\n",
        "  resultado = num1 / num2\n",
        "elif op != \"+\" and op != \"-\" and op != \"*\" and op != \"/\":\n",
        "  resultado = print(\"Operação inválida\")\n",
        "\n",
        "\n",
        "print (f\"Você escolheu a operação {op} e o resultado é: \\n {resultado}\")"
      ]
    },
    {
      "cell_type": "code",
      "source": [
        "p1 = float(input(\"Insira valor da casa desejada: \"))\n",
        "p2 = float(input(\"Insira seu salário líquido: \"))\n",
        "p3 = float(input(\"Em quantos anos gostaria de pagar? \"))\n",
        "meses = p3*12\n",
        "\n",
        "prestacao = p1/meses\n",
        "tempoideal = int((((p1//(0.3*p2)))/12)+1)\n",
        "\n",
        "if prestacao >= p2*0.3:\n",
        "  print (f\"Espréstimo reprovado. O tempo mínimo para pagamento, de acordo com seu salário, seriam {tempoideal} anos. \")\n",
        "else:\n",
        "  print (f\"Espréstimo aprovado\")\n"
      ],
      "metadata": {
        "colab": {
          "base_uri": "https://localhost:8080/"
        },
        "id": "Ixsj5oA7s36w",
        "outputId": "98c3e309-d62d-4777-c598-f7d118cb7cdf"
      },
      "execution_count": 44,
      "outputs": [
        {
          "output_type": "stream",
          "name": "stdout",
          "text": [
            "Insira valor da casa desejada: 100000\n",
            "Insira seu salário líquido: 5000\n",
            "Em quantos anos gostaria de pagar? 6\n",
            "Espréstimo aprovado\n"
          ]
        }
      ]
    },
    {
      "cell_type": "code",
      "source": [],
      "metadata": {
        "id": "4qEHaukS4SVY"
      },
      "execution_count": null,
      "outputs": []
    }
  ]
}
